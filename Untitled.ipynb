{
 "cells": [
  {
   "cell_type": "markdown",
   "id": "b8d986a9",
   "metadata": {},
   "source": [
    "### ATM SOFTWARE"
   ]
  },
  {
   "cell_type": "code",
   "execution_count": 7,
   "id": "25107250",
   "metadata": {},
   "outputs": [
    {
     "name": "stdout",
     "output_type": "stream",
     "text": [
      "\n",
      "        Enter your choice>>>\n",
      "        1. Enter 1. to CREATE PIN\n",
      "        2. Enter 2. to DEPOSIT\n",
      "        3. Enter 3. to WITHDRAW\n",
      "        4.Enter  4. to CHECK BALANCE\n",
      "        5. Enter 5.to EXIT\n",
      "        4\n",
      "Enter your PIN >>>94104\n",
      "PIN is incorrect, try again\n"
     ]
    }
   ],
   "source": [
    "class Atm:\n",
    "    # creating constructor\n",
    "    def __init__(self):\n",
    "        self.pin=\"\"\n",
    "        self.balance=0\n",
    "        \n",
    "        self.menu()\n",
    "        \n",
    "    def menu(self):\n",
    "        user_input = input(\"\"\"\n",
    "        Enter your choice>>>\n",
    "        1. Enter 1. to CREATE PIN\n",
    "        2. Enter 2. to DEPOSIT\n",
    "        3. Enter 3. to WITHDRAW\n",
    "        4.Enter  4. to CHECK BALANCE\n",
    "        5. Enter 5.to EXIT\n",
    "        \"\"\")\n",
    "        if user_input==\"1\":\n",
    "            self.create_pin()\n",
    "        elif user_input==\"2\":\n",
    "            self.deposit()\n",
    "        elif user_input==\"3\":\n",
    "            self.withdraw()\n",
    "        elif user_input==\"4\":\n",
    "            self.check_balance()\n",
    "        else:\n",
    "            print(\"BYE!!!\")\n",
    "    \n",
    "    def create_pin(self):\n",
    "        self.pin=input(\"Enter your PIN>>> \")\n",
    "        print(\"PIN created succesfully\")\n",
    "    \n",
    "    def deposit(self):\n",
    "        temp = input(\"Enter your PIN>>>\")\n",
    "        if temp== self.pin:\n",
    "            amount=int(input(\"Enter your amount>>>\"))\n",
    "        else:\n",
    "            print(\"PIN is incorrecrt, try again\")\n",
    "    \n",
    "    def withdraw(self):\n",
    "        temp = input(\"Enter your PIN>>>\")\n",
    "        if temp== self.pin:\n",
    "            amount=int(input(\"Enter your amount>>>\"))\n",
    "            if amount<self.balance:\n",
    "                self.balance=self.balance-amount\n",
    "                print(\"Collect your money\")\n",
    "            else:\n",
    "                print(\"Insufficient funds\")\n",
    "        else:\n",
    "            print(\"PIN is incorrect, try again\")\n",
    "                \n",
    "    def check_balance(self):\n",
    "        temp = input(\"Enter your PIN >>>\")\n",
    "        if temp== self.pin:\n",
    "            print(self.balance)\n",
    "        else:\n",
    "            print(\"PIN is incorrect, try again\")\n",
    "            \n",
    "customer1 = Atm()\n",
    "\n",
    "            "
   ]
  },
  {
   "cell_type": "code",
   "execution_count": 8,
   "id": "6ed81fe4",
   "metadata": {},
   "outputs": [
    {
     "name": "stdout",
     "output_type": "stream",
     "text": [
      "Enter your PIN>>> 94104\n",
      "PIN created succesfully\n"
     ]
    }
   ],
   "source": [
    "customer1.create_pin()"
   ]
  },
  {
   "cell_type": "code",
   "execution_count": 9,
   "id": "02206cfa",
   "metadata": {},
   "outputs": [
    {
     "name": "stdout",
     "output_type": "stream",
     "text": [
      "Enter your PIN>>>94104\n",
      "Enter your amount>>>5000\n"
     ]
    }
   ],
   "source": [
    "customer1.deposit()"
   ]
  },
  {
   "cell_type": "code",
   "execution_count": 10,
   "id": "b8b3ae7c",
   "metadata": {},
   "outputs": [
    {
     "name": "stdout",
     "output_type": "stream",
     "text": [
      "Enter your PIN>>>94104\n",
      "Enter your amount>>>2000\n",
      "Insufficient funds\n"
     ]
    }
   ],
   "source": [
    "customer1.withdraw()"
   ]
  },
  {
   "cell_type": "code",
   "execution_count": 12,
   "id": "41e9d774",
   "metadata": {},
   "outputs": [
    {
     "name": "stdout",
     "output_type": "stream",
     "text": [
      "Enter your PIN >>>94104\n",
      "0\n"
     ]
    }
   ],
   "source": [
    "customer1.check_balance()"
   ]
  },
  {
   "cell_type": "code",
   "execution_count": null,
   "id": "528948b8",
   "metadata": {},
   "outputs": [],
   "source": []
  }
 ],
 "metadata": {
  "kernelspec": {
   "display_name": "Python 3 (ipykernel)",
   "language": "python",
   "name": "python3"
  },
  "language_info": {
   "codemirror_mode": {
    "name": "ipython",
    "version": 3
   },
   "file_extension": ".py",
   "mimetype": "text/x-python",
   "name": "python",
   "nbconvert_exporter": "python",
   "pygments_lexer": "ipython3",
   "version": "3.9.12"
  }
 },
 "nbformat": 4,
 "nbformat_minor": 5
}
